{
 "cells": [
  {
   "cell_type": "code",
   "execution_count": null,
   "id": "9abb4ed8",
   "metadata": {},
   "outputs": [],
   "source": [
    "import pandas as pd \n",
    "import numpy as np \n",
    "import matplotlib.pyplot as plt \n",
    "import seaborn as sns"
   ]
  },
  {
   "cell_type": "code",
   "execution_count": null,
   "id": "55abe702",
   "metadata": {},
   "outputs": [],
   "source": [
    "df = pd.read_csv('spam.csv' , encoding = 'latin-1')"
   ]
  },
  {
   "cell_type": "code",
   "execution_count": null,
   "id": "3b3b06e6",
   "metadata": {},
   "outputs": [],
   "source": [
    "df"
   ]
  },
  {
   "cell_type": "code",
   "execution_count": null,
   "id": "b9ed17fb",
   "metadata": {},
   "outputs": [],
   "source": [
    "df.shape"
   ]
  },
  {
   "cell_type": "code",
   "execution_count": null,
   "id": "50043fdd",
   "metadata": {},
   "outputs": [],
   "source": [
    "## we perform these  steps \n",
    "#1. data cleaning \n",
    "#EDa \n",
    "# text preporcessing \n",
    "#model building \n",
    "# evaluation \n",
    "#website \n",
    "# Deployment \n"
   ]
  },
  {
   "cell_type": "code",
   "execution_count": null,
   "id": "b57ffab1",
   "metadata": {},
   "outputs": [],
   "source": [
    "# 1. Data cleaning \n",
    "df.drop( columns = ['Unnamed: 2','Unnamed: 3','Unnamed: 4'], inplace = True)\n"
   ]
  },
  {
   "cell_type": "code",
   "execution_count": null,
   "id": "babfba88",
   "metadata": {},
   "outputs": [],
   "source": [
    "df"
   ]
  },
  {
   "cell_type": "code",
   "execution_count": null,
   "id": "26b3dd3f",
   "metadata": {},
   "outputs": [],
   "source": [
    "df.sample(3)"
   ]
  },
  {
   "cell_type": "code",
   "execution_count": null,
   "id": "0989a2de",
   "metadata": {},
   "outputs": [],
   "source": [
    "#rename \n",
    "df.rename(columns = {'v1' :'target','v2':'text'}, inplace = True)"
   ]
  },
  {
   "cell_type": "code",
   "execution_count": null,
   "id": "c1476707",
   "metadata": {},
   "outputs": [],
   "source": [
    "df"
   ]
  },
  {
   "cell_type": "code",
   "execution_count": null,
   "id": "858537ab",
   "metadata": {},
   "outputs": [],
   "source": [
    "from sklearn.preprocessing import LabelEncoder\n",
    "encoder = LabelEncoder()"
   ]
  },
  {
   "cell_type": "code",
   "execution_count": null,
   "id": "5a2a3720",
   "metadata": {},
   "outputs": [],
   "source": [
    "df['target']=encoder.fit_transform(df['target'])"
   ]
  },
  {
   "cell_type": "code",
   "execution_count": null,
   "id": "b46a056d",
   "metadata": {},
   "outputs": [],
   "source": [
    "df   #0 = ham , 1 = spam"
   ]
  },
  {
   "cell_type": "code",
   "execution_count": null,
   "id": "c75d8154",
   "metadata": {},
   "outputs": [],
   "source": [
    "# check missing value \n",
    "\n",
    "df.isna().sum()"
   ]
  },
  {
   "cell_type": "code",
   "execution_count": null,
   "id": "24a28525",
   "metadata": {},
   "outputs": [],
   "source": [
    "df.duplicated().sum()"
   ]
  },
  {
   "cell_type": "code",
   "execution_count": null,
   "id": "ea50384a",
   "metadata": {},
   "outputs": [],
   "source": [
    "df.drop_duplicates(keep = 'first' , inplace = True)"
   ]
  },
  {
   "cell_type": "code",
   "execution_count": null,
   "id": "5491235d",
   "metadata": {},
   "outputs": [],
   "source": [
    "df.shape"
   ]
  },
  {
   "cell_type": "code",
   "execution_count": null,
   "id": "5cf69e53",
   "metadata": {},
   "outputs": [],
   "source": [
    "df.duplicated().sum()"
   ]
  },
  {
   "cell_type": "markdown",
   "id": "6a0510e6",
   "metadata": {},
   "source": [
    "# EDA"
   ]
  },
  {
   "cell_type": "code",
   "execution_count": null,
   "id": "2cea13ba",
   "metadata": {},
   "outputs": [],
   "source": [
    "df.head()"
   ]
  },
  {
   "cell_type": "code",
   "execution_count": null,
   "id": "d62c13ca",
   "metadata": {},
   "outputs": [],
   "source": [
    "df['target'].value_counts()"
   ]
  },
  {
   "cell_type": "code",
   "execution_count": null,
   "id": "4dc17514",
   "metadata": {},
   "outputs": [],
   "source": [
    "import matplotlib.pyplot as plt "
   ]
  },
  {
   "cell_type": "code",
   "execution_count": null,
   "id": "f97852d5",
   "metadata": {},
   "outputs": [],
   "source": [
    "plt.pie(df['target'].value_counts() , labels = ['ham', 'spam'] ,autopct = '%0.2f')\n",
    "plt.show()"
   ]
  },
  {
   "cell_type": "code",
   "execution_count": null,
   "id": "2ddc2b66",
   "metadata": {},
   "outputs": [],
   "source": [
    "import nltk"
   ]
  },
  {
   "cell_type": "code",
   "execution_count": null,
   "id": "74bbe082",
   "metadata": {},
   "outputs": [],
   "source": [
    "#nltk.download('punkt')"
   ]
  },
  {
   "cell_type": "code",
   "execution_count": null,
   "id": "d74271e0",
   "metadata": {},
   "outputs": [],
   "source": [
    "df['num_character']=df['text'].apply(len)"
   ]
  },
  {
   "cell_type": "code",
   "execution_count": null,
   "id": "be3ec524",
   "metadata": {},
   "outputs": [],
   "source": [
    "df"
   ]
  },
  {
   "cell_type": "code",
   "execution_count": null,
   "id": "09d58287",
   "metadata": {},
   "outputs": [],
   "source": [
    "df['num_word']=df['text'].apply( lambda x: nltk.word_tokenize(x)).apply(len)"
   ]
  },
  {
   "cell_type": "code",
   "execution_count": null,
   "id": "240ed6b6",
   "metadata": {},
   "outputs": [],
   "source": [
    "df['num_sentence']=df['text'].apply( lambda x: nltk.sent_tokenize(x)).apply(len)"
   ]
  },
  {
   "cell_type": "code",
   "execution_count": null,
   "id": "45d18953",
   "metadata": {},
   "outputs": [],
   "source": [
    "df"
   ]
  },
  {
   "cell_type": "code",
   "execution_count": null,
   "id": "26d4248d",
   "metadata": {},
   "outputs": [],
   "source": [
    "df[['num_character', 'num_word', 'num_sentence']].describe()"
   ]
  },
  {
   "cell_type": "code",
   "execution_count": null,
   "id": "a07771a2",
   "metadata": {},
   "outputs": [],
   "source": [
    "df[df['target'] == 0 ][['num_character', 'num_word', 'num_sentence']].describe()"
   ]
  },
  {
   "cell_type": "code",
   "execution_count": null,
   "id": "77cb254b",
   "metadata": {},
   "outputs": [],
   "source": [
    "df[df['target'] == 1 ][['num_character', 'num_word', 'num_sentence']].describe()"
   ]
  },
  {
   "cell_type": "code",
   "execution_count": null,
   "id": "b3100796",
   "metadata": {},
   "outputs": [],
   "source": [
    "import seaborn as sns"
   ]
  },
  {
   "cell_type": "code",
   "execution_count": null,
   "id": "e3c87a42",
   "metadata": {},
   "outputs": [],
   "source": [
    "\n",
    "plt.figure(figsize=(10,5))\n",
    "sns.histplot(df[df['target']==0]['num_character'], color = 'yellow')\n",
    "sns.histplot(df[df['target']==1]['num_character'] , color = 'red')\n",
    "plt.show()"
   ]
  },
  {
   "cell_type": "code",
   "execution_count": null,
   "id": "e31f2333",
   "metadata": {},
   "outputs": [],
   "source": [
    "plt.figure(figsize=(10,5))\n",
    "sns.histplot(df[df['target']==0]['num_word'], color = 'yellow')\n",
    "sns.histplot(df[df['target']==1]['num_word'] , color = 'red')\n",
    "plt.show()"
   ]
  },
  {
   "cell_type": "code",
   "execution_count": null,
   "id": "0191dc98",
   "metadata": {},
   "outputs": [],
   "source": [
    "sns.pairplot(df,hue= ('target'))\n",
    "plt.show()"
   ]
  },
  {
   "cell_type": "code",
   "execution_count": null,
   "id": "5947eb67",
   "metadata": {},
   "outputs": [],
   "source": [
    "#to see correlation matrix \n",
    "df_numeric = df.select_dtypes(include=[np.number]) \n",
    "sns.heatmap(df_numeric.corr() , annot = True)"
   ]
  },
  {
   "cell_type": "code",
   "execution_count": null,
   "id": "11f4dc7b",
   "metadata": {},
   "outputs": [],
   "source": [
    "#data preprocess \n",
    "#lower case \n",
    "#tokenization \n",
    "#remove special character \n",
    "#remove stopwords \n",
    "#stemming \n"
   ]
  },
  {
   "cell_type": "code",
   "execution_count": null,
   "id": "9df9164a",
   "metadata": {},
   "outputs": [],
   "source": [
    "import string \n",
    "from nltk.stem.porter import PorterStemmer\n",
    "ps = PorterStemmer()\n",
    "\n",
    "def transform_text(text):\n",
    "    text = text.lower()\n",
    "    \n",
    "    text= nltk.word_tokenize(text)\n",
    "    y = []\n",
    "    for i in text:\n",
    "        if i.isalnum():\n",
    "            y.append(i)\n",
    "            \n",
    "    \n",
    "    text = y[:]\n",
    "    y.clear()\n",
    "    \n",
    "    for i in text:\n",
    "        if i not in stopwords.words('english') and  i not in string.punctuation:\n",
    "            y.append(i)\n",
    "            \n",
    "    text = y[:]       \n",
    "    y.clear()\n",
    "    \n",
    "    for i in text:\n",
    "        y.append(ps.stem(i))\n",
    "        \n",
    "    \n",
    "    return \" \".join(y)"
   ]
  },
  {
   "cell_type": "code",
   "execution_count": null,
   "id": "334ebeb7",
   "metadata": {},
   "outputs": [],
   "source": [
    "#transform_text('HI Somu MY sely  Ak?!')"
   ]
  },
  {
   "cell_type": "code",
   "execution_count": null,
   "id": "db8a6965",
   "metadata": {},
   "outputs": [],
   "source": [
    "from nltk.corpus import stopwords \n"
   ]
  },
  {
   "cell_type": "code",
   "execution_count": null,
   "id": "4ed8bf15",
   "metadata": {},
   "outputs": [],
   "source": [
    "nltk.download('stopwords')\n"
   ]
  },
  {
   "cell_type": "code",
   "execution_count": null,
   "id": "9402ef61",
   "metadata": {},
   "outputs": [],
   "source": [
    "stopwords.words('english')"
   ]
  },
  {
   "cell_type": "code",
   "execution_count": null,
   "id": "72c026d0",
   "metadata": {},
   "outputs": [],
   "source": [
    "ps.stem('danceing')"
   ]
  },
  {
   "cell_type": "code",
   "execution_count": null,
   "id": "c728b36b",
   "metadata": {},
   "outputs": [],
   "source": [
    "df['transform_text']=df['text'].apply(transform_text)"
   ]
  },
  {
   "cell_type": "code",
   "execution_count": null,
   "id": "c89009c7",
   "metadata": {},
   "outputs": [],
   "source": [
    "df#"
   ]
  },
  {
   "cell_type": "code",
   "execution_count": null,
   "id": "14dc53ac",
   "metadata": {},
   "outputs": [],
   "source": [
    "#word cloud\n",
    "\n",
    "from wordcloud import WordCloud\n",
    "wc= WordCloud(width = 700 , height = 700 , min_font_size = 10 ,background_color = 'yellow')"
   ]
  },
  {
   "cell_type": "code",
   "execution_count": null,
   "id": "6bd013ea",
   "metadata": {},
   "outputs": [],
   "source": [
    "spam_wc = wc.generate(df[df['target'] == 1]['transform_text'].str.cat(sep = ' '))"
   ]
  },
  {
   "cell_type": "code",
   "execution_count": null,
   "id": "ff6e290a",
   "metadata": {},
   "outputs": [],
   "source": [
    "plt.imshow(spam_wc)"
   ]
  },
  {
   "cell_type": "code",
   "execution_count": null,
   "id": "62b56c33",
   "metadata": {},
   "outputs": [],
   "source": [
    "#word cloud for ham \n",
    "\n",
    "ham_wc = wc.generate(df[df['target'] == 0]['transform_text'].str.cat(sep = ' '))"
   ]
  },
  {
   "cell_type": "code",
   "execution_count": null,
   "id": "f5b570b5",
   "metadata": {},
   "outputs": [],
   "source": [
    "plt.imshow(ham_wc)"
   ]
  },
  {
   "cell_type": "code",
   "execution_count": null,
   "id": "4f6819c0",
   "metadata": {},
   "outputs": [],
   "source": [
    "#top 50 words \n",
    "\n",
    "spam_corpus = []\n",
    "for msg in df[df['target'] == 1]['transform_text'].tolist():\n",
    "    for word in msg.split():\n",
    "        spam_corpus.append(word)\n",
    "    \n",
    "    "
   ]
  },
  {
   "cell_type": "code",
   "execution_count": null,
   "id": "33128e0b",
   "metadata": {},
   "outputs": [],
   "source": [
    "len(spam_corpus)"
   ]
  },
  {
   "cell_type": "code",
   "execution_count": null,
   "id": "d4600d5c",
   "metadata": {},
   "outputs": [],
   "source": [
    "from collections import Counter\n",
    "pd.DataFrame(Counter(spam_corpus).most_common(50))"
   ]
  },
  {
   "cell_type": "code",
   "execution_count": null,
   "id": "8f90bda7",
   "metadata": {},
   "outputs": [],
   "source": [
    "ham_corpus = []\n",
    "for msg in df[df['target'] == 0]['transform_text'].tolist():\n",
    "    for word in msg.split():\n",
    "        ham_corpus.append(word)\n",
    "    "
   ]
  },
  {
   "cell_type": "code",
   "execution_count": null,
   "id": "51f89b7b",
   "metadata": {},
   "outputs": [],
   "source": [
    "len(ham_corpus)"
   ]
  },
  {
   "cell_type": "code",
   "execution_count": null,
   "id": "6569c120",
   "metadata": {},
   "outputs": [],
   "source": [
    "pd.DataFrame(Counter(ham_corpus).most_common(50))"
   ]
  },
  {
   "cell_type": "markdown",
   "id": "f9b40a5f",
   "metadata": {},
   "source": [
    "# Model Building \n"
   ]
  },
  {
   "cell_type": "code",
   "execution_count": null,
   "id": "bcf37ffa",
   "metadata": {},
   "outputs": [],
   "source": [
    "from sklearn.feature_extraction.text import CountVectorizer , TfidfVectorizer\n",
    "cv = CountVectorizer()\n",
    "tfidf = TfidfVectorizer()"
   ]
  },
  {
   "cell_type": "code",
   "execution_count": null,
   "id": "93e08bf3",
   "metadata": {},
   "outputs": [],
   "source": [
    "X = tfidf.fit_transform(df['transform_text']).toarray()"
   ]
  },
  {
   "cell_type": "code",
   "execution_count": null,
   "id": "5508af91",
   "metadata": {},
   "outputs": [],
   "source": [
    "X.shape"
   ]
  },
  {
   "cell_type": "code",
   "execution_count": null,
   "id": "ecce381a",
   "metadata": {},
   "outputs": [],
   "source": [
    "y = df['target'].values"
   ]
  },
  {
   "cell_type": "code",
   "execution_count": null,
   "id": "108bb124",
   "metadata": {},
   "outputs": [],
   "source": [
    "y"
   ]
  },
  {
   "cell_type": "code",
   "execution_count": null,
   "id": "366700a4",
   "metadata": {},
   "outputs": [],
   "source": [
    "from sklearn.model_selection import train_test_split"
   ]
  },
  {
   "cell_type": "code",
   "execution_count": null,
   "id": "9f189cc2",
   "metadata": {},
   "outputs": [],
   "source": [
    "X_train, X_test , y_train , y_test = train_test_split(X,y , test_size = 0.2 , random_state = 2 )"
   ]
  },
  {
   "cell_type": "code",
   "execution_count": null,
   "id": "c39a4038",
   "metadata": {},
   "outputs": [],
   "source": [
    "from sklearn.naive_bayes import GaussianNB, MultinomialNB ,BernoulliNB\n",
    "from sklearn.metrics import accuracy_score ,confusion_matrix, precision_score "
   ]
  },
  {
   "cell_type": "code",
   "execution_count": null,
   "id": "b0599cb0",
   "metadata": {},
   "outputs": [],
   "source": [
    "gnb = GaussianNB()\n",
    "mnb = MultinomialNB()\n",
    "bnb = BernoulliNB()"
   ]
  },
  {
   "cell_type": "code",
   "execution_count": null,
   "id": "21ce352a",
   "metadata": {},
   "outputs": [],
   "source": [
    "gnb.fit(X_train, y_train)\n",
    "y_pred1 = gnb.predict(X_test)\n",
    "print(accuracy_score(y_test, y_pred1))\n",
    "print(confusion_matrix(y_test, y_pred1))\n",
    "print(precision_score(y_test, y_pred1))"
   ]
  },
  {
   "cell_type": "code",
   "execution_count": null,
   "id": "7d0ab45f",
   "metadata": {},
   "outputs": [],
   "source": [
    "mnb.fit(X_train, y_train)\n",
    "y_pred2 = mnb.predict(X_test)\n",
    "print(accuracy_score(y_test, y_pred2))\n",
    "print(confusion_matrix(y_test, y_pred2))\n",
    "print(precision_score(y_test, y_pred2))"
   ]
  },
  {
   "cell_type": "code",
   "execution_count": null,
   "id": "b39c90b9",
   "metadata": {},
   "outputs": [],
   "source": [
    "bnb.fit(X_train, y_train)\n",
    "y_pred3 = bnb.predict(X_test)\n",
    "print(accuracy_score(y_test, y_pred3))\n",
    "print(confusion_matrix(y_test, y_pred3))\n",
    "print(precision_score(y_test, y_pred3))"
   ]
  },
  {
   "cell_type": "code",
   "execution_count": null,
   "id": "71b2f2cc",
   "metadata": {},
   "outputs": [],
   "source": [
    "from sklearn.linear_model import LogisticRegression\n",
    "from sklearn.svm import SVC\n",
    "from sklearn.tree import DecisionTreeClassifier\n",
    "from sklearn.neighbors import KNeighborsClassifier\n",
    "from sklearn.ensemble import RandomForestClassifier, AdaBoostClassifier, BaggingClassifier , ExtraTreesClassifier, GradientBoostingClassifier\n",
    "from xgboost import XGBClassifier"
   ]
  },
  {
   "cell_type": "code",
   "execution_count": null,
   "id": "b258fd33",
   "metadata": {},
   "outputs": [],
   "source": [
    "import pickle\n",
    "pickle.dump(tfidf,open('vectorizer.pkl','wb'))\n",
    "pickle.dump(mnb,open('model.pkl','wb'))"
   ]
  },
  {
   "cell_type": "code",
   "execution_count": null,
   "id": "73cbad94",
   "metadata": {},
   "outputs": [],
   "source": [
    "df['transform_text'][4532]"
   ]
  },
  {
   "cell_type": "code",
   "execution_count": null,
   "id": "a73e9258",
   "metadata": {},
   "outputs": [],
   "source": [
    "df.sample(10)\n"
   ]
  }
 ],
 "metadata": {
  "kernelspec": {
   "display_name": "Python 3 (ipykernel)",
   "language": "python",
   "name": "python3"
  },
  "language_info": {
   "codemirror_mode": {
    "name": "ipython",
    "version": 3
   },
   "file_extension": ".py",
   "mimetype": "text/x-python",
   "name": "python",
   "nbconvert_exporter": "python",
   "pygments_lexer": "ipython3",
   "version": "3.11.7"
  }
 },
 "nbformat": 4,
 "nbformat_minor": 5
}
